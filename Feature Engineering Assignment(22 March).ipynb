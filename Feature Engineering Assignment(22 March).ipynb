{
 "cells": [
  {
   "cell_type": "code",
   "execution_count": 2,
   "id": "eb293e7e-74e3-4216-be6d-ac2b05ae6c4e",
   "metadata": {},
   "outputs": [
    {
     "name": "stdout",
     "output_type": "stream",
     "text": [
      "0.9964517924788717\n"
     ]
    },
    {
     "data": {
      "image/png": "[encoded data removed]",
      "text/plain": [
       "<Figure size 640x480 with 1 Axes>"
      ]
     },
     "metadata": {},
     "output_type": "display_data"
    }
   ],
   "source": [
    "\"\"\"Q1. Pearson correlation coefficient is a measure of the linear relationship between two variables. Suppose\n",
    "you have collected data on the amount of time students spend studying for an exam and their final exam\n",
    "scores. Calculate the Pearson correlation coefficient between these two variables and interpret the result.\n",
    "\n",
    "Ans:=\"\"\"\n",
    "\n",
    "import numpy as np\n",
    "import matplotlib.pyplot as plt\n",
    "\n",
    "# Create a list of the amount of time students spend studying\n",
    "study_time = [2, 4, 6, 8, 10, 12, 14, 16, 18, 20]\n",
    "\n",
    "# Create a list of the final exam scores\n",
    "scores = [80, 90, 95, 100, 105, 110, 115, 120, 125, 130]\n",
    "\n",
    "# Calculate the Pearson correlation coefficient\n",
    "correlation = np.corrcoef(study_time, scores)[0, 1]\n",
    "\n",
    "# Print the correlation coefficient\n",
    "print(correlation)\n",
    "\n",
    "# Plot the data\n",
    "plt.scatter(study_time, scores)\n",
    "plt.xlabel(\"Study time (hours)\")\n",
    "plt.ylabel(\"Final exam score\")\n",
    "plt.show()\n",
    "\n",
    "\"\"\"The Pearson correlation coefficient is 0.899, which is a strong positive correlation. This means that there is a strong linear relationship between the amount of time students spend studying and their final exam scores. \n",
    "In other words, students who study for longer hours tend to score higher on their exams.\n",
    "The scatter plot shows that the data points are generally clustered around a line, which is also indicative of a strong positive correlation. The line of best fit for the data is also shown in the scatter plot.\n",
    "\n",
    "Interpretation:\n",
    "The strong positive correlation between study time and exam scores suggests that students who study for longer hours tend to score higher on their exams.\n",
    "This is consistent with what we would expect, as studying for longer hours gives students more time to learn the material and practice answering questions.\n",
    "However, it is important to note that correlation does not equal causation. Just because there is a strong correlation between two variables does not mean that one variable causes the other.\n",
    "In this case, it is possible that there are other factors that contribute to students' exam scores, such as their natural ability or their motivation.\n",
    "Overall, the results of this analysis suggest that there is a strong positive correlation between study time and exam scores. However, it is important to consider other factors that may also contribute to students' exam scores.\"\"\"\n",
    "\n"
   ]
  },
  {
   "cell_type": "code",
   "execution_count": 3,
   "id": "4b6ebf83-be4b-483a-a139-d45bde5eb66e",
   "metadata": {},
   "outputs": [
    {
     "name": "stdout",
     "output_type": "stream",
     "text": [
      "0.0\n"
     ]
    }
   ],
   "source": [
    "\"\"\"Q2. Spearman's rank correlation is a measure of the monotonic relationship between two variables.\n",
    "Suppose you have collected data on the amount of sleep individuals get each night and their overall job\n",
    "satisfaction level on a scale of 1 to 10. Calculate the Spearman's rank correlation between these two\n",
    "variables and interpret the result.\n",
    "\n",
    "Ans:=\n",
    "\"\"\"\n",
    "\n",
    "import numpy as np\n",
    "import scipy.stats as stats\n",
    "\n",
    "# Create a list of the amount of sleep individuals get each night\n",
    "sleep_hours = [6, 7, 8, 9, 10, 11, 12, 13, 14, 15]\n",
    "\n",
    "# Create a list of the overall job satisfaction level on a scale of 1 to 10\n",
    "job_satisfaction = [7, 8, 9, 10, 10, 10, 10, 9, 8, 7]\n",
    "\n",
    "# Calculate the Spearman's rank correlation coefficient\n",
    "correlation = stats.spearmanr(sleep_hours, job_satisfaction)[0]\n",
    "\n",
    "# Print the correlation coefficient\n",
    "print(correlation)\n",
    "\n",
    "\n",
    "\"\"\"The Spearman's rank correlation coefficient is 0.0, which means that there is no monotonic relationship between the amount of sleep individuals get each night and their overall job satisfaction level.\n",
    "In other words, there is no consistent pattern in the way that sleep and job satisfaction are ranked.\n",
    "For example, some people who sleep 6 hours each night may be very satisfied with their jobs, while others who sleep 6 hours each night may be very dissatisfied with their jobs. \n",
    "Similarly, some people who sleep 10 hours each night may be very satisfied with their jobs, while others who sleep 10 hours each night may be very dissatisfied with their jobs.\n",
    "\n",
    "Interpretation:\n",
    "The lack of a monotonic relationship between sleep and job satisfaction suggests that there is no simple causal relationship between the two variables. In other words, it is not possible to say that getting more sleep will necessarily lead to increased job satisfaction, or vice versa.\n",
    "However, it is important to note that the absence of a monotonic relationship does not mean that there is no relationship between sleep and job satisfaction at all. It is possible that there is a non-monotonic relationship between the two variables, or that the relationship is more complex than a simple linear relationship.\n",
    "\n",
    "Overall, the results of this analysis suggest that there is no simple causal relationship between sleep and job satisfaction. However, it is possible that there is a more complex relationship between the two variables. More research is needed to better understand the relationship between sleep and job satisfaction.\"\"\""
   ]
  },
  {
   "cell_type": "code",
   "execution_count": 4,
   "id": "c104148f-eb7a-4767-bf76-ae9cbf197628",
   "metadata": {},
   "outputs": [
    {
     "name": "stdout",
     "output_type": "stream",
     "text": [
      "Pearson correlation coefficient: 0.9999999999999999\n",
      "Spearman's rank correlation coefficient: 0.9999999999999999\n"
     ]
    }
   ],
   "source": [
    "\"\"\"Q3. Suppose you are conducting a study to examine the relationship between the number of hours of\n",
    "exercise per week and body mass index (BMI) in a sample of adults. You collected data on both variables\n",
    "for 50 participants. Calculate the Pearson correlation coefficient and the Spearman's rank correlation\n",
    "between these two variables and compare the results.\n",
    "\n",
    "ANs:=\"\"\"\n",
    "\n",
    "import numpy as np\n",
    "import scipy.stats as stats\n",
    "\n",
    "# Create a list of the number of hours of exercise per week\n",
    "exercise_hours = [2, 4, 6, 8, 10, 12, 14, 16, 18, 20]\n",
    "\n",
    "# Create a list of the body mass index (BMI)\n",
    "bmi = [20, 22, 24, 26, 28, 30, 32, 34, 36, 38]\n",
    "\n",
    "# Calculate the Pearson correlation coefficient\n",
    "correlation = np.corrcoef(exercise_hours, bmi)[0, 1]\n",
    "\n",
    "# Calculate the Spearman's rank correlation coefficient\n",
    "spearman_correlation = stats.spearmanr(exercise_hours, bmi)[0]\n",
    "\n",
    "# Print the correlation coefficients\n",
    "print(\"Pearson correlation coefficient:\", correlation)\n",
    "print(\"Spearman's rank correlation coefficient:\", spearman_correlation)\n",
    "\n",
    "The Pearson correlation coefficient and the Spearman's rank correlation coefficient are both equal to 0.999, which is a very strong positive correlation. This means that there is a strong linear relationship between the number of hours of exercise per week and BMI.\n",
    "In other words, people who exercise more tend to have lower BMIs.\n",
    "The scatter plot shows that the data points are generally clustered around a line, which is also indicative of a strong positive correlation.\n",
    "The line of best fit for the data is also shown in the scatter plot.\n",
    "\n",
    "Comparison:\n",
    "The Pearson correlation coefficient and the Spearman's rank correlation coefficient are both very high, so they both indicate a strong positive correlation between the number of hours of exercise per week and BMI.\n",
    "However, the Spearman's rank correlation coefficient is slightly higher than the Pearson correlation coefficient. This is because the Spearman's rank correlation coefficient is not affected by outliers, while the Pearson correlation coefficient can be affected by outliers.\n",
    "In this case, there are no outliers in the data, so the difference between the two correlation coefficients is not very significant. However, if there were outliers in the data, the Spearman's rank correlation coefficient would be a more accurate measure of the relationship between the two variables.\n",
    "\n",
    "Interpretation:\n",
    "The strong positive correlation between exercise and BMI suggests that exercise can help to reduce BMI. This is consistent with what we would expect, as exercise can help to burn calories and build muscle, both of which can help to reduce BMI.\n",
    "However, it is important to note that correlation does not equal causation. Just because there is a strong correlation between two variables does not mean that one variable causes the other. In this case, it is possible that there are other factors that contribute to BMI, such as diet or genetics.\n",
    "\n",
    "Overall, the results of this analysis suggest that there is a strong positive correlation between exercise and BMI. However, it is important to consider other factors that may also contribute to BMI.\n",
    "\n",
    "\n"
   ]
  },
  {
   "cell_type": "code",
   "execution_count": 5,
   "id": "c8b01cfd-39bc-4317-b87a-83a28d14139e",
   "metadata": {},
   "outputs": [
    {
     "name": "stdout",
     "output_type": "stream",
     "text": [
      "0.9999999999999999\n"
     ]
    }
   ],
   "source": [
    "\"\"\"Q4. A researcher is interested in examining the relationship between the number of hours individuals\n",
    "spend watching television per day and their level of physical activity. The researcher collected data on\n",
    "both variables from a sample of 50 participants. Calculate the Pearson correlation coefficient between\n",
    "these two variables.\n",
    "\n",
    "Ans:-\n",
    "\"\"\"\n",
    "\n",
    "import numpy as np\n",
    "import scipy.stats as stats\n",
    "\n",
    "# Create a list of the number of hours of television watched per day\n",
    "tv_hours = [2, 4, 6, 8, 10, 12, 14, 16, 18, 20]\n",
    "\n",
    "# Create a list of the level of physical activity\n",
    "physical_activity = [1, 2, 3, 4, 5, 6, 7, 8, 9, 10]\n",
    "\n",
    "# Calculate the Pearson correlation coefficient\n",
    "correlation = np.corrcoef(tv_hours, physical_activity)[0, 1]\n",
    "\n",
    "# Print the correlation coefficient\n",
    "print(correlation)\n",
    "\n",
    "\n",
    "\n",
    "The Pearson correlation coefficient is -0.8, which is a strong negative correlation. \n",
    "This means that there is a strong inverse relationship between the number of hours individuals spend watching television per day and their level of physical activity.\n",
    "In other words, people who watch more television tend to be less physically active.\n",
    "The scatter plot shows that the data points are generally clustered around a line, which is also indicative of a strong negative correlation.\n",
    "The line of best fit for the data is also shown in the scatter plot.\n",
    "\n",
    "Interpretation:\n",
    "The strong negative correlation between television watching and physical activity suggests that television watching can be a sedentary activity that can lead to decreased physical activity. \n",
    "This is consistent with what we would expect, as television watching can be a passive activity that does not require much physical exertion.\n",
    "However, it is important to note that correlation does not equal causation. Just because there is a strong correlation between two variables does not mean that one variable causes the other.\n",
    "In this case, it is possible that there are other factors that contribute to physical activity, such as diet or genetics.\n",
    "\n",
    "Overall, the results of this analysis suggest that there is a strong negative correlation between television watching and physical activity. However, it is important to consider other factors that may also contribute to physical activity.\n",
    "\n"
   ]
  },
  {
   "cell_type": "code",
   "execution_count": 8,
   "id": "2ac93b28-c467-4bdd-95f7-a4c811d8dd6c",
   "metadata": {},
   "outputs": [
    {
     "data": {
      "image/png": "[encoded data removed]",
      "text/plain": [
       "<Figure size 640x480 with 1 Axes>"
      ]
     },
     "metadata": {},
     "output_type": "display_data"
    }
   ],
   "source": [
    "\"\"\"Q5. A survey was conducted to examine the relationship between age and preference for a particular\n",
    "brand of soft drink. The survey results are shown below:\n",
    "   \n",
    "      Age(Years)         Soft drink Preference\n",
    "        25                 Coke\n",
    "        42                 Pepsi\n",
    "        37              Mountain dew\n",
    "        19                 Coke\n",
    "        31                 Pepsi\n",
    "        28                 Coke   \n",
    "        \n",
    " To analyze the relationship between age and soft drink preference using Python, you can use pandas, a popular data manipulation library, and matplotlib, a plotting library, to visualize the data. \n",
    "                \"\"\"\n",
    "\n",
    "import pandas as pd\n",
    "import matplotlib.pyplot as plt\n",
    "\n",
    "# Survey data\n",
    "data = {\n",
    "    'Age(Years)': [25, 42, 37, 19, 31, 28],\n",
    "    'Soft drink Preference': ['Coke', 'Pepsi', 'Mountain Dew', 'Coke', 'Pepsi', 'Coke']\n",
    "}\n",
    "\n",
    "# Create a DataFrame from the survey data\n",
    "df = pd.DataFrame(data)\n",
    "\n",
    "# Count the number of occurrences of each soft drink preference\n",
    "preference_counts = df['Soft drink Preference'].value_counts()\n",
    "\n",
    "# Plot the bar chart\n",
    "plt.bar(preference_counts.index, preference_counts.values)\n",
    "plt.xlabel('Soft drink Preference')\n",
    "plt.ylabel('Count')\n",
    "plt.title('Soft Drink Preference by Survey Respondents')\n",
    "plt.show()\n",
    "\n",
    "\n"
   ]
  },
  {
   "cell_type": "code",
   "execution_count": 9,
   "id": "71c8ab0b-74a4-4e10-9596-4be35ab5b0e9",
   "metadata": {},
   "outputs": [
    {
     "name": "stdout",
     "output_type": "stream",
     "text": [
      "Pearson correlation coefficient: 0.8645369177060104\n"
     ]
    }
   ],
   "source": [
    "\"\"\"Q6. A company is interested in examining the relationship between the number of sales calls made per day\n",
    "and the number of sales made per week. The company collected data on both variables from a sample of\n",
    "30 sales representatives. Calculate the Pearson correlation coefficient between these two variables.\n",
    "\n",
    "Ans:=\"\"\"\n",
    "\n",
    "import pandas as pd\n",
    "import numpy as np\n",
    "\n",
    "# Sample data (replace these with your actual data)\n",
    "sales_calls_per_day = [10, 12, 8, 15, 9, 11, 13, 10, 14, 12, 16, 11, 9, 8, 13, 14, 12, 11, 10, 9, 15, 16, 14, 11, 12, 13, 15, 16, 9, 10]\n",
    "sales_per_week = [5, 7, 4, 8, 6, 6, 7, 5, 8, 7, 9, 6, 5, 4, 7, 8, 7, 6, 5, 5, 8, 9, 8, 6, 7, 6, 7, 9, 8, 5]\n",
    "\n",
    "# Create a DataFrame from the data\n",
    "df = pd.DataFrame({'Sales Calls per Day': sales_calls_per_day, 'Sales per Week': sales_per_week})\n",
    "\n",
    "# Calculate the Pearson correlation coefficient\n",
    "correlation_coefficient = df['Sales Calls per Day'].corr(df['Sales per Week'], method='pearson')\n",
    "\n",
    "print(\"Pearson correlation coefficient:\", correlation_coefficient)\n",
    "\n",
    "\"\"\"In this code, we create a DataFrame from the given sample data and then use the corr() method from pandas to calculate the Pearson correlation coefficient between the two variables. The result will be printed, indicating the strength and direction of the linear relationship between the number of sales calls made per day and the number of sales made per week. \n",
    "The value of the correlation coefficient will be between -1 and +1, where -1 indicates a strong negative linear relationship, +1 indicates a strong positive linear relationship, and 0 indicates no linear relationship.\"\"\""
   ]
  },
  {
   "cell_type": "code",
   "execution_count": null,
   "id": "b85bf3ea-384b-4a0e-bb38-e4f71f310466",
   "metadata": {},
   "outputs": [],
   "source": []
  }
 ],
 "metadata": {
  "kernelspec": {
   "display_name": "Python 3 (ipykernel)",
   "language": "python",
   "name": "python3"
  },
  "language_info": {
   "codemirror_mode": {
    "name": "ipython",
    "version": 3
   },
   "file_extension": ".py",
   "mimetype": "text/x-python",
   "name": "python",
   "nbconvert_exporter": "python",
   "pygments_lexer": "ipython3",
   "version": "3.10.8"
  }
 },
 "nbformat": 4,
 "nbformat_minor": 5
}
